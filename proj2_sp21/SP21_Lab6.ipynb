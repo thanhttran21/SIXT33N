{
 "cells": [
  {
   "cell_type": "markdown",
   "metadata": {},
   "source": [
    "# SIXT33N Project\n",
    "## Phase 2: System Identification\n",
    "\n",
    "### EECS 16B: Designing Information Devices and Systems II, Spring 2021\n",
    "-----"
   ]
  },
  {
   "cell_type": "markdown",
   "metadata": {},
   "source": [
    "## <span style=\"color:navy\">Table Of Contents</span>\n",
    "-----"
   ]
  },
  {
   "cell_type": "markdown",
   "metadata": {},
   "source": [
    "* ### [Note](https://drive.google.com/file/d/1VW30TAqUTtJG9igXJ86DSnFuFW-DT32V/view?usp=sharing)\n",
    "* [Introduction](#intro)\n",
    "* [Part 1: Installing the Encoders](#part1)\n",
    "* [Part 2: Sensor Verification](#part2)\n",
    "* [Part 3: Changing to Battery](#part3)\n",
    "* [Part 4: Open Loop Data Collection and Parameter Estimation](#part4)\n",
    "* [Part 5: Determining the Operating Point](#part5)\n",
    "* [Part 6: Micboard Verification](#part6)"
   ]
  },
  {
   "cell_type": "markdown",
   "metadata": {},
   "source": [
    "<a id='intro'></a>\n",
    "## <span style=\"color:navy\">Introduction</span>\n",
    "-----"
   ]
  },
  {
   "cell_type": "markdown",
   "metadata": {},
   "source": [
    "Please make sure to read the note before you begin the lab. \n",
    "**Remember to document all design choices you made and explain them in the project report.**"
   ]
  },
  {
   "cell_type": "markdown",
   "metadata": {},
   "source": [
    "<a id='part1'></a>\n",
    "## <span style=\"color:navy\">Part 1: Installing the Encoders</span>\n",
    "-----"
   ]
  },
  {
   "cell_type": "markdown",
   "metadata": {},
   "source": [
    "### Materials: \n",
    "- 2 encoders (aka photointerrupter modules, shown below)\n",
    "- 2 plastic encoder wheels (plastic wheel with lots of rectangular holes)\n",
    "- Launchpad\n",
    "- 8 jumper wires\n",
    "\n",
    "### Tasks: \n",
    "\n",
    "**1. Put the photointerrupter modules in their slots as shown below.**\n",
    "<br/><br/>\n",
    "<center>\n",
    "<img width=\"400px\" src=\"images/proj-car-encoder1.jpg\">\n",
    "</center>\n",
    "\n",
    "**2. Connect the encoders to the Launchpad as follows:**\n",
    "* Use 4 jumper wires per encoder. 3 will connect from the encoder to your breadboard, 1 will connect from your breadboard to your Launchpad. You should **twist or braid all three wires from the encoder to the breadboard together** - this will help shield the signal wire from external noise sources.\n",
    "* Connect the 'G' (ground) pins to ground on your breadboard.\n",
    "* Connect the 'V' (voltage) pins to the 3.3V rail of your breadboard.\n",
    "* For each of your 'S' (signal) pins: \n",
    "    - Build a resistive voltage divider with reasonably-valued ($ \\geq1k\\Omega $) resistors such that a `HIGH` ($3.3V$) signal from the encoder is reduced to a voltage between $2.0V$ and $2.5V$. (Hint: you can accomplish this with one $1k\\Omega$ and one $2k\\Omega$ resistor).\n",
    "    - Connect the encoder signal pin to the input of the voltage divider.  \n",
    "* Connect the output (between the two resistors) of the left voltage divider to the Launchpad `P6.2` and the output (between the two resistors) of the right voltage divider to `P6.3`.\n",
    "    - If these pins are no longer functional, any free pins of `P6.0` to `P6.6` or `P7.0` will also work"
   ]
  },
  {
   "cell_type": "markdown",
   "metadata": {},
   "source": [
    "<a id='part2'></a>\n",
    "\n",
    "## <span style=\"color:navy\">Part 2: Sensor Verification</span>\n",
    "-----"
   ]
  },
  {
   "cell_type": "markdown",
   "metadata": {},
   "source": [
    "\n",
    "### <span style=\"color:navy\">Encoder Verification</span>\n",
    "\n",
    "In general, there are two major types of error in sensing the car's trajectory. The first is noise in the sensor signals. The second is from mechanical differences between the two sides of the car.\n",
    "\n",
    "In this section we will test for and fix the first type of noise. The mechanical type primarily affects performance over long distances, so we can compensate for it after implementing closed-loop control.\n",
    "\n",
    "\n",
    "### Materials:\n",
    "- Launchpad and cable\n",
    "- Car with encoders installed\n",
    "- 9V Wall Adapter\n",
    "\n",
    "### Tasks: \n",
    "0. If you still have your micboard still set up and connected to your 3.3V rail, disconnect it from power temporarily as we will not be using it in this lab.\n",
    "1. Connect the Launchpad's USB.\n",
    "2. Connect one of the ground pins on the Launchpad to the ground rail of your breadboard.\n",
    "3. Connect your 9V wall adapter to power your motors (connect it through the switch, just like in the Front End lab) as well as your regulators to power your encoders.\n",
    "4. **Connect the input resistor of the left motor's driver circuit to `P2.0` and the input resistor of the right motor's driver circuit to `P1.5`.** (Connect the pins to the ends of the resistors that are NOT connected to the BJT)\n",
    "5. **If your encoders are powered properly, the LEDs on each one should blink when you pass something through the encoders.**\n",
    "6. Remove the encoder wheels (the plastic disk with holes in it) if they are on the car. Upload **`encoder_test_0_ticks.ino`** to the Launchpad.\n",
    "7. Open the serial monitor.\n",
    "8. **Set the baud rate to `38400`**.\n",
    "9. Press reset.\n",
    "10. Follow the instructions on the serial monitor.\n",
    "    - **Your car wheels are going to move.** Make sure that you hold the car above the table/ground. Don't let your car jump off the table.\n",
    "    - Button P2.1 is the bottom left button of the LaunchPad.\n",
    "    - The test will conduct 4 phases: both wheels at rest, one wheel driving, the other wheel driving, and both wheels driving.\n",
    "    - If your encoders are functioning properly, the serial monitor should print \"Success\" or \"Success if encoder wheels are off\" after each phase, and display all 0s (or at least no more than a few ticks) for the ticks per phase. Note that if your car is mis-wired, this could be a false negative.\n",
    "    - This diagnostics message will be followed up by a long and repeating string of the actual values measured during the duration of the program. If you want to look at just the encoder diagnostics, make sure to untick `Autoscroll` in the bottom left of the Serial Monitor window.\n",
    "11. Attach the encoder disk as shown below.\n",
    "    - If it is on, make sure to remove the paper sticker from your car frame (yes, it does come off) before you attach the encoders.\n",
    "    - If some of the holes on the encoder wheel were not fully cut out, use a screwdriver to push the material out.\n",
    "12. Re-run the tests. If your car is connected correctly, **the tests should show several hundred encoder ticks**, ruling out a false negative. You should also see it print \"Failure if encoder wheels are off. Success if encoder wheels are on.\"\n",
    "\n",
    "<img width=\"400px\" src=\"images/proj-car-encoder2.jpg\">\n",
    "\n",
    "\n"
   ]
  },
  {
   "cell_type": "markdown",
   "metadata": {},
   "source": [
    "<a id='part3'></a>\n",
    "\n",
    "## <span style=\"color:navy\">Part 3: Changing to Battery Power</span>\n",
    "-----"
   ]
  },
  {
   "cell_type": "markdown",
   "metadata": {},
   "source": [
    "\n",
    "\n",
    "Now we want to use 9V batteries to run the car on the ground. \n",
    "\n",
    "***If you are testing things at your desk, use the 9V wall adapter.*** The battery does not contain a lot of energy and the motors take a lot of power. If you leave it running it will only last a little over an hour. If the voltage of the battery drops below 7.8V, you will need a new battery.\n",
    "\n",
    "### Materials\n",
    "- 2 x 9V batteries + battery leads (knotted to prevent shorting)\n",
    "\n",
    "### Tasks:\n",
    "1. Take the 9V wall adapter off the motor drivers.\n",
    "  - **Never leave both the 9V wall adapter and the battery connected at the same time. Don't do it.**\n",
    "2. Connect one battery to the switch and the other to the voltage regulators.\n",
    "   - When using the batteries, because you can directly connect the battery cap to the 9V battery itself, the red is 9V and black is ground, unlike the wall adapter. Refer back to our [tutorial video](https://www.youtube.com/watch?v=DPLfrsyz99w&list=PLhIxXDRJ9_VqxwlybfFHzihu1e3-Ll433&index=3&t=1s) for powering your breadboard if you're unsure.\n",
    "   - The grounds of the 9V battery leads should go to the ground rails of the circuit.\n",
    "3. Knot your battery leads as shown in the image below.\n",
    "    - This will drastically decrease the chance that the leads will accidentally short and kill your battery.\n",
    "\n",
    "<img width=\"200px\" src=\"images/proj-batt-lead.jpg\">\n",
    "\n",
    "**4. Use your multimeter again to check that the output of your regulator is still 5V and nothing was shorted.</span>**\n",
    "\n",
    "<span style=\"color:red\"> 5. Up till now, the Launchpad has been powered through the computer via the USB. **Disconnect the USB cable that is powering the Launchpad.** To power it through the battery, connect the 5V pin on the Launchpad to the 5V row on your breadboard.</span>\n",
    "\n",
    "<span style=\"color:red\">6.  **Never simultaneously power the MSP with both the computer (USB) and the 5V through your breadboard.** </span>\n",
    "- **Don't do it.** If you leave both connected for too long, the computer will not recognize your Launchpad due to power overload at the COM port and your Launchpad will likely get fried and stop working.\n",
    "\n",
    "### Summary:\n",
    "\n",
    "At any point, your car should be powered with either of the following two configurations:\n",
    "\n",
    "1. **Tethered Configuration**: When uploading launchpad code or downloading data to the computer: \n",
    "\n",
    "<img width=\"700px\" src=\"images/PowerDiagram2.png\">\n",
    "\n",
    "2. **Mobile configuration**: When running the car away from the computer: \n",
    "\n",
    "<img width=\"700px\" src=\"images/PowerDiagram1.png\">\n",
    "\n"
   ]
  },
  {
   "cell_type": "markdown",
   "metadata": {},
   "source": [
    "<a id='part4'></a>\n",
    "## <span style=\"color:navy\">Part 4: Open Loop Data Collection and Parameter Estimation</span>\n",
    "-----"
   ]
  },
  {
   "cell_type": "markdown",
   "metadata": {},
   "source": [
    "Now, you will collect the data by uploading the sketch **`dynamics_data.ino`**. Glance through the sketch - it records the position of each wheel while varying the input signal $u[k]$ linearly from HIGH_PWM to LOW_PWM and back up. The sampling period is $T_s = 500\\mathrm{ms}$. A long sampling period is used to minimize error due to quantization, the rounding error from measuring only integer encoder ticks.\n",
    "\n",
    "**Important: For this first test, make sure that you are using the first set of 5 parameters in code block `SID1`** (abbreviated from System ID 1). These parameters will sweep through a range of PWM values, from 200 to 100 and back to 200 (the maximimum value a PWM can have is 255 and minimum is 0), while collecting 2 samples per PWM. The car will start fast, slow down, and speed back up during the test (it's possible that the car may stop in the middle before driving again if a PWM of 100 is not enough to get it to drive).\n",
    "\n",
    "### 4.1. About Data Collection:\n",
    "1. We will being using **`dynamics_data.ino`** to collect data for our car and read it to the serial monitor.\n",
    "2. Upon being uploaded to the MSP, **`dynamics_data.ino`.** does either one of two things, depending on whether the **`WRITE`** variable located at the top of the code is **`1`** or **`0`**. \n",
    "    - If **`WRITE == 1`** - The car upon having the leftmost bottom button pressed will run and collect data, then write it into nonvolatile (permanent) memory called flash, which will survive between resets and power supply removal, unlike volatile memory like RAM. The collected data will be overwritten if data collection is run again.\n",
    "    - If **`WRITE == 0`** - The car upon having its leftmost bottom button pressed will read data collected from its last run that is stored in flash and output it onto the Serial Monitor.\n",
    "\n",
    "Here are somethings to keep in mind:\n",
    "\n",
    "In general: \n",
    "\n",
    "- The leftmost button is unresponsive at times, so you may have to press it multiple times. You will know you have succeeded in making the MSP bend to your will if the LEDs blink.\n",
    "- If things are still unresponsive, press the reset button.\n",
    "- **Don't connect both 5V from the voltage regulator and the USB from the computer to the MSP at the same time. This tends to fry the launchpad.**\n",
    "\n",
    "If running the car and collecting data:\n",
    "\n",
    "- Remember that the MSP needs power from 5V pin if not connected to the Computer\n",
    "- **Secure your MSP** to your car so that it does not fall off while the car is moving!\n",
    "- Look for a large space to run your car. You want to try to minimize the number of collisions it makes with the objects or walls around it for the best data.\n",
    "    - If it's on a collision course with an object or wall you can quickly pick it up and change its direction before it hits.\n",
    "- Your car will most likely not go straight. Think about why this is.\n",
    "- Make sure you flip the switch to connect the motors to 9V before running it.\n",
    "- If your car makes *very* tight circles (ie: radius less than 1 ft), talk to your GSI! Some quick fixes may be:\n",
    "    - Check to see if your motor wheels are turning in the right direction (the back of the car is the castor wheel).\n",
    "    - Making sure the castor wheel (the white wheel that swivels) is aligned with your car (straight, and not turned at an angle) before running dynamics_data.ino. You may need to accomplish this by restraining the sides of the wheel with either wires or tape.\n",
    "    - Using a smaller range of PWM values (i.e. 90-150 instead of 100-200)\n",
    "    - Try to find a wide, flat space to run your car. If you can't get access to a space like this, make sure your car doesn't bump into walls (pick it up and redirect it before it collides).\n",
    "    - If you fry one of your PWM pins, you can use one of the other PWM pins, which are `P1.4`, `P1.5`, `P2.0`, `P2.4`, and `P2.5`.\n",
    "\n",
    "If reading the data from the MSP:\n",
    "\n",
    "- The data is printed in lines as comma separated 3-tuples. \n",
    "- Copy and paste, ONLY these 3-tuples, nothing else.\n",
    "- Your data should look something like this (albeit with more data points):\n",
    "<img width=\"400px\" src=\"images/data_coarse_example.png\">\n"
   ]
  },
  {
   "cell_type": "markdown",
   "metadata": {},
   "source": [
    "### 4.2. Coarse Data Collection:\n",
    "\n",
    "<img width=\"400px\" src=\"images/example_coarse_data.png\">\n",
    "\n",
    "We want to get a general idea of not only how your motors react to different input PWMs, but also figure out if there are any mechanical differences that we may need to account for in the future. To do this, we will allow our car to run for a while given a large range of input PWMs.\n",
    "\n",
    "The example plot above shows an example of extreme differences between two wheels. The \"ascending\" plot is when the car is speeding up (as it increases from `LOW_PWM` to `HIGH_PWM`) and the descending plot is the opposite. _What is wrong with the plot above? Are the motors working properly throughout the entire run?_\n",
    "\n",
    "\n",
    "#### Tasks:\n",
    "1. Upload `dynamics_data.ino` onto your Launchpad with WRITE == 1.\n",
    "2. Unplug the USB and plug in the 5V pin on your Launchpad to power it with the batteries. Remember you cannot leave both the USB and the 5V pin connected at the same time or your Launchpad will kick the bucket and fry.\n",
    "3. Place your car on the ground and push button `P2.1` (bottom leftmost button) once you're ready and let the car run.\n",
    "4. Once it finishes and comes to a stop (after completing the slowdown and speedup), flip the switch to disconnect the motors from power and bring your car back to your computer. Unplug the 5V pin from your launchpad and plug in the USB. Upload dynamics_data.ino again, but this time with WRITE == 0.\n",
    "5. Push button `P2.1` and copy the data from the serial monitor and paste it into a text file called **`data_coarse.txt`.** You may need to turn off `Autoscroll`."
   ]
  },
  {
   "cell_type": "code",
   "execution_count": null,
   "metadata": {
    "collapsed": true
   },
   "outputs": [],
   "source": [
    "import numpy as np\n",
    "import matplotlib.pyplot as plt\n",
    "%matplotlib inline"
   ]
  },
  {
   "cell_type": "code",
   "execution_count": null,
   "metadata": {
    "collapsed": true
   },
   "outputs": [],
   "source": [
    "with open('data_coarse.txt', 'r') as file:\n",
    "    data = np.array([[int(num) for num in line.strip().split(',')] for line in file.readlines()])\n",
    "\n",
    "# compute velocity from distances\n",
    "vleft  = data[:, 1]\n",
    "vright = data[:, 2]\n",
    "\n",
    "\n",
    "u = data[:, 0].reshape((-1, 1)) # duty cycle\n",
    "left_des, left_asc = np.array_split(vleft, 2)\n",
    "\n",
    "right_des, right_asc = np.array_split(vright, 2)\n",
    "\n",
    "u_des, u_asc = np.array_split(u, 2)\n",
    "\n",
    "plt.plot(u_des, left_des, 'b-',  u_des, right_des, 'y-')\n",
    "plt.plot(u_asc, left_asc, 'b-o',  u_asc, right_asc, 'y-^')\n",
    "plt.xlabel(\"u (input via PWM)\")\n",
    "plt.ylabel(\"Velocity of Wheels\")\n",
    "labels = (\"left (descending)\", \"right (descending)\",\n",
    "          \"left (ascending)\" , \"right (ascending)\")\n",
    "plt.legend(labels, loc=0)\n",
    "plt.show()"
   ]
  },
  {
   "cell_type": "markdown",
   "metadata": {},
   "source": [
    "### 4.3. Fine Data Collection\n",
    "\n",
    "Now we'll collect data appropriate for least-squares to find a linear approximation for the behavior of your motors. In normal operation, the car only has to run within a small range of velocities, so we collect more samples at each PWM, over a smaller PWM range. \n",
    "\n",
    "#### Tasks:\n",
    "1. **Comment out the first set of 5 parameters and uncomment the second set in code block `SID1`.**\n",
    "\n",
    "2. **Set *LOW_PWM* and *HIGH_PWM*** so that the chosen PWM range is (more or less) linear on your coarse plot from the previous step.\n",
    "\n",
    "3. Follow the steps from Task 4 and run the program again. If your car is making *very* tight circles refer to Task 4.\n",
    "    \n",
    "4. This time, copy the data to a text file called `data_fine.txt`, instead of `data_coarse.txt`.\n",
    "\n",
    "5. Perform least-squares regression on your data as outlined in the sections below entitled **Least-Squares Regression** and **Evaluate Your Fit**."
   ]
  },
  {
   "cell_type": "code",
   "execution_count": null,
   "metadata": {
    "collapsed": true
   },
   "outputs": [],
   "source": [
    "with open('data_fine.txt', 'r') as file:\n",
    "    data = np.array([[int(num) for num in line.strip().split(',')] for line in file.readlines()])\n",
    "    \n",
    "# compute velocity from distances\n",
    "vleft  = data[:, 1]\n",
    "vright = data[:, 2]\n",
    "\n",
    "u = data[:, 0].reshape((-1, 1)) # duty cycle\n",
    "\n",
    "plt.plot(u, vleft, 'bo',  u, vright, 'yo')\n",
    "plt.xlabel(\"u (input via PWM)\")\n",
    "plt.ylabel(\"Velocity of Wheels\")\n",
    "plt.legend((\"left\", \"right\"), loc=0)\n",
    "plt.show()"
   ]
  },
  {
   "cell_type": "markdown",
   "metadata": {},
   "source": [
    "### 4.4. Least-Squares Regression\n",
    "\n",
    "Now that we have some data, we can try performing least-squares regression. Try to think about what least-squares problem we are solving, what equations are we using, and what the variables we are solving for mean.\n",
    "\n",
    "#### Tasks\n",
    "1. Write a function that takes the data as parameters, performs least squares, and extracts the parameters. The functions [`np.hstack`](https://numpy.org/doc/stable/reference/generated/numpy.hstack.html), [`np.ones`](https://numpy.org/doc/stable/reference/generated/numpy.ones.html), [`np.shape`](https://numpy.org/doc/stable/reference/generated/numpy.shape.html), [`np.linalg.lstsq`](https://numpy.org/doc/stable/reference/generated/numpy.linalg.lstsq.html) will be helpful here.\n",
    "    - If you are having trouble figuring out how to setup the least square problem, check the [lab note](https://drive.google.com/file/d/1VW30TAqUTtJG9igXJ86DSnFuFW-DT32V/view?usp=sharing) for some helpful insight.\n",
    "    \n",
    "2. Call the function once for each wheel.\n",
    "\n",
    "3. Record the values of $\\theta$ and $\\beta$ for each wheel."
   ]
  },
  {
   "cell_type": "code",
   "execution_count": null,
   "metadata": {
    "collapsed": true
   },
   "outputs": [],
   "source": [
    "# Write a function that formulates and performs least squares\n",
    "# and returns theta and beta for one wheel\n",
    "def identify_parameters(u, v):\n",
    "    # Returns (theta, beta) for given (u, v)\n",
    "    # YOUR CODE HERE\n",
    "    return pass\n",
    "\n",
    "# extract parameters, call your function here\n",
    "theta_left, beta_left = identify_parameters(u, vleft) # 0, 0\n",
    "theta_right, beta_right = identify_parameters(u, vright) # 0, 0\n",
    "\n",
    "print(\"float theta_left = {:.4g};\".format(theta_left))\n",
    "print(\"float theta_right = {:.4g};\".format(theta_right))\n",
    "print(\"float beta_left = {:.4g};\".format(beta_left))\n",
    "print(\"float beta_right = {:.4g};\".format(beta_right))"
   ]
  },
  {
   "cell_type": "code",
   "execution_count": null,
   "metadata": {
    "collapsed": true,
    "scrolled": true
   },
   "outputs": [],
   "source": [
    "# plot results of least squares fit \n",
    "u = u.reshape(-1)\n",
    "vleft_LS = theta_left*u-beta_left\n",
    "vright_LS = theta_right*u-beta_right\n",
    "plt.plot(u, vleft, 'bo',  u, vright, 'yo', u, vleft_LS, 'b-', u, vright_LS, 'y-')\n",
    "plt.xlabel(\"u (input via PWM)\")\n",
    "plt.ylabel(\"Velocity of Wheels\")\n",
    "plt.legend((\"left\", \"right\"), loc=0)"
   ]
  },
  {
   "cell_type": "markdown",
   "metadata": {},
   "source": [
    "### 4.5. Evaluate Your Fit\n",
    "\n",
    "#### Tasks\n",
    "1. **Inspect the linearity of this plot and the coarse data plot.**\n",
    "2. **If you think a different range of PWM may be more linear, change HIGH_PWM and LOW_PWM in the .ino file.**\n",
    "    - Be careful so your car does not run too close to the minimum or maximum PWM (0 and 255).\n",
    "    - If our control scheme saturates (e.g. maxes at 255) an input, the car is much harder to control.\n",
    "3. Run the simulation below."
   ]
  },
  {
   "cell_type": "markdown",
   "metadata": {},
   "source": [
    "To test that we have estimated the parameters accurately, we will simulate the model using the parameters we have found. When we compare the simulated data with the collected data, we expect them to match up pretty well. "
   ]
  },
  {
   "cell_type": "code",
   "execution_count": null,
   "metadata": {
    "collapsed": true
   },
   "outputs": [],
   "source": [
    "# model for simulation \n",
    "def sim(d0, u, theta, beta):\n",
    "    d = np.zeros(len(u)+1)\n",
    "    d[0] = d0\n",
    "    for t in range(len(u)):\n",
    "        d[t+1] = d[t] + theta*u[t] - beta\n",
    "    return d\n",
    "def get_distances_from_velocities(v):\n",
    "    d = np.zeros(len(u) + 1)\n",
    "    d[0] = 0\n",
    "    for t in range(len(u)):\n",
    "        d[t+1] = d[t] + v[t] \n",
    "    return d\n",
    "        \n",
    "# plot simulated trajectories \n",
    "\n",
    "dleft = get_distances_from_velocities(vleft)\n",
    "dright = get_distances_from_velocities(vright)\n",
    "\n",
    "dleft_simulated  = sim(0, u, theta_left, beta_left)\n",
    "dright_simulated = sim(0, u, theta_right, beta_right)\n",
    "plt.plot(dleft, 'b.', \n",
    "         dright, 'y.',\n",
    "         dleft_simulated, 'b-', \n",
    "         dright_simulated, 'y-',\n",
    "        )\n",
    "plt.xlabel(\"time\")\n",
    "plt.ylabel(\"distance\")\n",
    "plt.legend((\"left (data)\", \"right (data)\", \"left (fit)\", \"right (fit)\"), loc='upper left')"
   ]
  },
  {
   "cell_type": "markdown",
   "metadata": {},
   "source": [
    "<a id='part5'></a>\n",
    "## <span style=\"color:navy\">Part 5: Determining the Operating Point</span>\n",
    "-----"
   ]
  },
  {
   "cell_type": "markdown",
   "metadata": {},
   "source": [
    "**Make sure you read the linear least squares section of the note before beginning this section!**\n",
    "\n",
    "In general, each wheel may have a different range of velocities, illustrated here.\n",
    "\n",
    "\n",
    "<img src=\"./images/partial_overlap_lsq.png\">\n"
   ]
  },
  {
   "cell_type": "markdown",
   "metadata": {},
   "source": [
    "In order for the car to drive straight, the wheels must be moving at the same velocity. However, the motors (and hence the wheels) have different achievable velocity ranges, so we need to set the operating point to a velocity achievable by both wheels. A good choice of target velocity is the midpoint of the overlapping range of velocity. The below cell will calculate this."
   ]
  },
  {
   "cell_type": "code",
   "execution_count": null,
   "metadata": {
    "collapsed": true
   },
   "outputs": [],
   "source": [
    "min_vel = max(min(vleft_LS), min(vright_LS))\n",
    "max_vel = min(max(vleft_LS), max(vright_LS))\n",
    "print('Velocity range = [{:0.1f}, {:0.1f}]'.format(min_vel, max_vel))\n",
    "midpoint = (min_vel+max_vel)/2\n",
    "print('\\nOperating point:\\nfloat v_star = {:.1f};'.format(midpoint))\n",
    "\n",
    "u = u.reshape(-1)\n",
    "vleft_LS = theta_left*u-beta_left\n",
    "vright_LS = theta_right*u-beta_right\n",
    "plt.plot(u, vleft_LS, 'b-', u, vright_LS, 'y-')\n",
    "for i in (min_vel, max_vel):\n",
    "    plt.plot(u, 0*u + i, 'g-')\n",
    "plt.plot(u, vleft, 'bo',  u, vright, 'yo')\n",
    "plt.xlabel(\"u (input via PWM)\")\n",
    "plt.ylabel(\"Velocity of Wheels\")\n",
    "plt.legend((\"left\", \"right\", \"overlap\"), loc=0)"
   ]
  },
  {
   "cell_type": "markdown",
   "metadata": {},
   "source": [
    "<a id='part6'></a>\n",
    "## <span style=\"color:navy\">Part 6: Micboard Verification (optional)</span>\n",
    "-----\n",
    "\n",
    "We will be using the micboard again in the SVD/PCA lab. It is good to verify that the launchpad can read the voice signal from your front-end circuit. \n",
    "\n",
    "### Materials:\n",
    "- Car\n",
    "- Launchpad + USB cable\n",
    "\n",
    "### Tasks:\n",
    "1. Upload <b>`adc_read.ino`</b> to the Launchpad.\n",
    "2. Connect pin `6.0` to the output of your microphone front-end circuit.\n",
    "3. Connect the ground of the Launchpad to the ground of your circuit.\n",
    "4. **Press the reset button on your Launchpad.**\n",
    "5. In `terminal` or your operating system's equivalent command line, run **`python adc_read.py -D COM###`** (substitute `###` with the proper number from Device Manager).\n",
    "\n",
    "### Notes/Tips:\n",
    "- If you see a graph on your screen with a signal that changes when you make noises at your microphone and is centered in the middle of the graph, then you have succeeded! Congratulations!\n",
    "\n",
    "- If this step fails, make sure that you make it work before the SVD/PCA lab. You won't be able to do that lab without going through this step!"
   ]
  },
  {
   "cell_type": "markdown",
   "metadata": {},
   "source": [
    "## <span style=\"color:#ba190f\">CHECKOFF</span>\n",
    "-----\n",
    "- **Show your GSI your data collection and parameters.** Your TA will double check your parameters and graphs. \n",
    "- Think about the following questions for checkoff:\n",
    "    - What is the difference between `data_coarse.txt` and `data_fine.txt`?\n",
    "    - How did we come to finding theta and beta?\n",
    "    - Why did we have to model each wheel seperately?\n",
    "    - How could we use this model to make our car drive straight?\n",
    "- <span style=\"color:red\">SAVE ALL YOUR DATA!!</span>"
   ]
  }
 ],
 "metadata": {
  "anaconda-cloud": {},
  "kernelspec": {
   "display_name": "Python 3",
   "language": "python",
   "name": "python3"
  },
  "language_info": {
   "codemirror_mode": {
    "name": "ipython",
    "version": 3
   },
   "file_extension": ".py",
   "mimetype": "text/x-python",
   "name": "python",
   "nbconvert_exporter": "python",
   "pygments_lexer": "ipython3",
   "version": "3.6.1"
  }
 },
 "nbformat": 4,
 "nbformat_minor": 1
}
