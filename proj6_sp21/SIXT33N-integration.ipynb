{
 "cells": [
  {
   "cell_type": "markdown",
   "metadata": {},
   "source": [
    "# SIXT33N Project\n",
    "## Phase 6: Integration\n",
    "\n",
    "### EECS 16B: Designing Information Devices and Systems II, Spring 2021\n",
    "\n",
    "\n",
    "Written by Nathaniel Mailoa and Emily Naviasky (2016)\n",
    "\n",
    "nmailoa@berkeley.edu &emsp; enaviasky@berkeley.edu"
   ]
  },
  {
   "cell_type": "markdown",
   "metadata": {},
   "source": [
    "## Table of Contents\n",
    "\n",
    "* [Introduction](#intro)\n",
    "* [Integration](#part1)\n",
    "* [Final Demo and Lab Report](#part2)"
   ]
  },
  {
   "cell_type": "markdown",
   "metadata": {},
   "source": [
    "<a id='intro'></a>\n",
    "## Introduction\n",
    "\n",
    "Now you are on your last steps! SIXT33N has slowly been taking shape and soon it will be running around causing trouble. All you need to do now is to put everything together in a single Launchpad program. The objective is to get SIXT33N to move straight, turn left, go straight for a shorter distance, and turn right when it hears the corresponding command.\n",
    "\n",
    "The checkpoint for this phase is the final demo of your project. Please read the last section of the notebook for details."
   ]
  },
  {
   "cell_type": "markdown",
   "metadata": {},
   "source": [
    "<a id='part1'></a>\n",
    "## <span style=\"color:blue\">Integration</span>"
   ]
  },
  {
   "cell_type": "markdown",
   "metadata": {},
   "source": [
    "Everything you work on in this phase will be in the sketch `integration.ino`, which is your final LaunchPad code for SIXT33N. As we go through it, fill in sections labelled `YOUR CODE HERE` as instructed.\n"
   ]
  },
  {
   "cell_type": "markdown",
   "metadata": {},
   "source": [
    "### I/O Pins\n",
    "\n",
    "The top of the sketch contains some constant and variable definitions. If you changed a motor or encoder pin in a previous lab, make sure you change it here as well.\n",
    "\n",
    "### Wheel Control \n",
    "\n",
    "In the main body of the sketch, the code defines 2 modes: `MODE_LISTEN` and `MODE_DRIVE`. In `MODE_DRIVE`, SIXT33N will execute the command specified by the word it successfully classifies during `MODE_LISTEN`.\n",
    "\n",
    "- Copy `CODE BLOCK CON1/2/3/5` from `turning.ino`.\n",
    "- Copy over your `TURN_RADIUS` and `delta_reference` function from `turning.ino` into `CODE BLOCK CON4`.\n",
    "    - You may need to change the values inside the `run_times[4]` array to make the car turn 90 degrees. Indices 1 and 3 (the second and fourth values in the array) hold the run times for the turns.\n",
    "\n",
    "### Enveloping and PCA Vectors\n",
    "\n",
    "In `MODE_LISTEN`, the SIXT33N listens to your words and tries to classify the word. The Launchpad will repeatedly record some samples and perform the enveloping. If the Launchpad sucessfully classifies a word then it will enter `MODE_DRIVE`.\n",
    "\n",
    "- Directly above `CODE BLOCK PCA1`, if you changed the pin for your filtered mic board signal in a previous lab, make sure you change it here in this `MIC_INPUT` pin definition as well.\n",
    "- Copy `CODE BLOCK PCA1/2` from `classify.ino`.\n",
    "\n",
    "### Classification and Driving\n",
    "\n",
    "Next, go to the section labeled **`CODE BLOCK PCA3`** in the `loop()` function, and copy the code from `classify.ino`. This block should do the PCA projection and classification. There is no longer a need to `print` over serial in this section.\n",
    "\n",
    "Then, if the check for `EUCLIDEAN_THRESHOLD` passes, based on the identified commands, write code that makes the SIXT33N behave as desired by setting the `drive_mode` variable and calling `start_drive_mode()` (the skeleton is already there for these two lines). As a reminder, the four commands should make the SIXT33N:\n",
    "- Drive straight far\n",
    "- Turn left\n",
    "- Drive straight close\n",
    "- Turn right\n",
    "\n",
    "### Notes / Tips\n",
    "- **You may find that you encounter an \"out-of-memory\" error** - this is because our Launchpads do not have a ton of memory. Try reducing your SNIPPET_SIZE (window length) so your vectors aren't quite as long. This may change your classification, but hopefully for the better. It's ok if you get a warning about *low* memory.\n",
    "    - If you end up changing this, you may need to quickly run through the code for the SVD/PCA lab again with your updated value to update your vectors. You may also need to run classify.ino again from Advanced Controls.\n",
    "- Change the values inside the `run_times` array to ensure your SIXT33N turns the proper angle. Indices 1 and 3 (the second and fourth value in the array) store the run times for the turns."
   ]
  },
  {
   "cell_type": "markdown",
   "metadata": {},
   "source": [
    "That's it! You should be set. Now load the sketch into your Launchpad, unplug your USB, and make sure your Launchpad's 5V pin is connected to the 5V voltage regulator output. If your car doesn't have as much driving power as before, you might need to change to fresh batteries - check the voltage of your battery using the Digital Multimeter and if it is considerably less than 9V swap them out for fresh ones.\n",
    "\n",
    "Put your car on the floor and try saying some commands (you may need to bring your head very close to the microphone)! Hopefully, it can classify the commands correctly and move as desired.\n",
    "\n",
    "Did it work? If not, you might still need to tweak your control or classify parameters. If it did work: time to celebrate!"
   ]
  },
  {
   "cell_type": "markdown",
   "metadata": {},
   "source": [
    "<a id='part2'></a>\n",
    "## <span style=\"color:blue\">Final Demo and Lab Report</span>"
   ]
  },
  {
   "cell_type": "markdown",
   "metadata": {},
   "source": [
    "Congratulations - You're done! If you have some time, be creative and try to add a functionality to the SIXT33N for the design contest! Don't hesitate to ask for your GSI's help when you want to modify the Launchpad sketch since it is more complicated than previous sketches. \n",
    "\n",
    "### Demo\n",
    "\n",
    "In the demo, you will have to:\n",
    "- Set SIXT33N on the ground, then say the commands we tell you to one-by-one. We will give you a random sequence of commands that tests each command at least twice.\n",
    "- It's helpful for you to say what the word you are about to say is supposed to do.\n",
    "    - It's hard for us to memorize all 4 of your commands up front.\n",
    "- You are allowed to reposition the car inbetween the steps if you have trouble crashing into walls.\n",
    "\n",
    "### Final Lab Report\n",
    "\n",
    "On top of the demo, you will need to submit a final lab report. Briefly summarize each lab we have done this semester, elaborate on your design choices, and answer all the questions in the report pdf. Submit the write-up as a PDF to Gradescope by **Friday, May 7th at 11:00 PM**.\n",
    "\n",
    "See [here](https://drive.google.com/file/d/1BxfyUlNxx9VNDvNrf4m_O2-xeo3JZW1v/view?usp=sharing) for the report pdf."
   ]
  }
 ],
 "metadata": {
  "anaconda-cloud": {},
  "kernelspec": {
   "display_name": "Python 3",
   "language": "python",
   "name": "python3"
  },
  "language_info": {
   "codemirror_mode": {
    "name": "ipython",
    "version": 3
   },
   "file_extension": ".py",
   "mimetype": "text/x-python",
   "name": "python",
   "nbconvert_exporter": "python",
   "pygments_lexer": "ipython3",
   "version": "3.7.4"
  }
 },
 "nbformat": 4,
 "nbformat_minor": 1
}
